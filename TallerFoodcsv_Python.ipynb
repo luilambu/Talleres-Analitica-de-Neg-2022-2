{
  "nbformat": 4,
  "nbformat_minor": 0,
  "metadata": {
    "colab": {
      "provenance": [],
      "include_colab_link": true
    },
    "kernelspec": {
      "name": "python3",
      "display_name": "Python 3"
    },
    "language_info": {
      "name": "python"
    }
  },
  "cells": [
    {
      "cell_type": "markdown",
      "metadata": {
        "id": "view-in-github",
        "colab_type": "text"
      },
      "source": [
        "<a href=\"https://colab.research.google.com/github/luilambu/Talleres-Analitica-de-Neg-2022-2/blob/main/TallerFoodcsv_Python.ipynb\" target=\"_parent\"><img src=\"https://colab.research.google.com/assets/colab-badge.svg\" alt=\"Open In Colab\"/></a>"
      ]
    },
    {
      "cell_type": "markdown",
      "source": [
        "El fichero Food.csv contiene información sobre el Product Food Index. Escribir un programa con los siguientes puntos:\n",
        "\n",
        "1.Limpiar la base de datos para que queden solo las columnas Date, Food Index Price, Meat, Dairy, Oils, Sugar. Y en la fila, solo tener datos con fecha y por último, mostrar 15 datos aleatorios.\n",
        "\n",
        "2.Mostrar la media de los precios del Dairy.\n",
        "\n",
        "3.Mostrar la mediana de los precios del Sugar para el mes de Octubre.\n",
        "\n",
        "4.Mostrar los percentiles en 3 cuartiles del Food Index Price.\n",
        "\n",
        "5.Mostrar la media de los precios de Oils, solamente de los datos del mes de Febrero.\n",
        "\n",
        "6.Mostrar el rango del precio de Sugar para el año 2012.\n",
        "\n",
        "7.Mostar el precio máximo y mínimo de Meat y mostrar que fecha fue.\n",
        "\n",
        "8.Mostrar la varianza y la desviación estandar del Food Price Index\n",
        "\n",
        "9.Realizar una regresión lineal entre Meat(V. Independiente) y FPI(V. Dependiente).\n",
        "1. Mostrar la ecuación con la intersección y el coeficiente\n",
        "2.Mostrar la gráfica de la regresión\n",
        "3.Mostrar que tan confiable es el modelo\n",
        "\n"
      ],
      "metadata": {
        "id": "Vu9Qh2TncGu4"
      }
    },
    {
      "cell_type": "code",
      "execution_count": null,
      "metadata": {
        "id": "tIpdBmSPdf9t",
        "colab": {
          "base_uri": "https://localhost:8080/"
        },
        "outputId": "8cf83a6d-df11-419d-99cb-f750f2f8ec46"
      },
      "outputs": [
        {
          "output_type": "stream",
          "name": "stdout",
          "text": [
            "[Errno 2] No such file or directory: '/content/drive/MyDrive/Colab Notebooks'\n",
            "/content\n"
          ]
        }
      ],
      "source": [
        "import pandas as pd\n",
        "import numpy as np\n",
        "\n",
        "import matplotlib.pyplot as plt\n",
        "import seaborn as sns\n",
        "\n",
        "\n",
        "from sklearn import linear_model\n",
        "from sklearn.linear_model import LinearRegression\n",
        "import scipy as sy\n",
        "import statsmodels as sts\n",
        "import statistics as stat\n",
        "import statsmodels.formula.api as smf\n",
        "\n",
        "%cd /content/drive/MyDrive/Colab\\ Notebooks\n"
      ]
    },
    {
      "cell_type": "code",
      "source": [
        "#Punto 1 1.Limpiar la base de datos para que queden solo las columnas Date, Food Index Price, Meat, Dairy, Oils, Sugar. Y en la fila, solo tener datos con fecha y por último, mostrar 15 datos aleatorios."
      ],
      "metadata": {
        "id": "x599Um_BvjV0"
      },
      "execution_count": null,
      "outputs": []
    },
    {
      "cell_type": "code",
      "source": [
        "food=pd.read_csv(\"Food.csv\", header=2,usecols=[0,1,2,3,5,6])\n",
        "food\n",
        "largo=len(food)\n",
        "food=food.drop(0)\n",
        "food\n",
        "food[['Año','Mes']]=food.Date.str.split('-',expand=True)\n",
        "print(food.sample(15,random_state=7))"
      ],
      "metadata": {
        "id": "47zZWKQPkcsU",
        "colab": {
          "base_uri": "https://localhost:8080/"
        },
        "outputId": "8ac491d4-92ee-4392-a3ac-125783a094a7"
      },
      "execution_count": null,
      "outputs": [
        {
          "output_type": "stream",
          "name": "stdout",
          "text": [
            "        Date  Food Price Index   Meat  Dairy    Oils  Sugar   Año Mes\n",
            "239  2009-11              98.8   83.7  113.1  101.76  137.8  2009  11\n",
            "271  2012-07             122.1  100.4   99.7  138.56  141.4  2012  07\n",
            "214  2007-10             107.6   79.2  148.0  125.85   61.9  2007  10\n",
            "359  2019-11              98.6  106.5  102.5   93.16   79.2  2019  11\n",
            "58   1994-10              69.9   78.1   52.0   79.00   78.9  1994  10\n",
            "385  2022-01             135.6  112.1  132.6  185.90  112.7  2022  01\n",
            "31   1992-07              64.4   78.6   58.1   51.93   63.8  1992  07\n",
            "61   1995-01              72.9   78.6   58.9   82.66   91.3  1995  01\n",
            "102  1998-06              64.2   66.2   55.6   82.76   50.1  1998  06\n",
            "148  2002-04              51.0   56.3   48.9   48.97   42.6  2002  04\n",
            "52   1994-04              63.7   72.9   42.3   63.66   68.1  1994  04\n",
            "241  2010-01             101.5   85.0  109.0  107.10  163.8  2010  01\n",
            "110  1999-02              58.4   62.8   51.5   68.40   42.2  1999  02\n",
            "66   1995-06              75.1   81.0   61.2   80.33   86.8  1995  06\n",
            "75   1996-03              78.6   82.9   63.0   68.17   79.9  1996  03\n"
          ]
        }
      ]
    },
    {
      "cell_type": "code",
      "source": [
        "#Punto 2 Mostrar la media de los precios del Dairy.\n",
        "meandairy=food['Dairy'].mean()\n",
        "print(meandairy)"
      ],
      "metadata": {
        "colab": {
          "base_uri": "https://localhost:8080/"
        },
        "id": "cSkwVODViGHn",
        "outputId": "4e52be2f-dabf-45fa-9981-d2899800b82f"
      },
      "execution_count": null,
      "outputs": [
        {
          "output_type": "stream",
          "name": "stdout",
          "text": [
            "83.97302798982187\n"
          ]
        }
      ]
    },
    {
      "cell_type": "code",
      "source": [
        "#Punto 3 Mostrar la mediana de los precios del Sugar para el mes de Octubre.\n",
        "octubre=food.loc[food['Mes']=='10']\n",
        "p3=octubre['Sugar'].median()\n",
        "print(p3)"
      ],
      "metadata": {
        "colab": {
          "base_uri": "https://localhost:8080/"
        },
        "id": "rF2KA6SSiXse",
        "outputId": "55a638c3-a5d4-4c06-c31e-c8f7f28fa96f"
      },
      "execution_count": null,
      "outputs": [
        {
          "output_type": "stream",
          "name": "stdout",
          "text": [
            "72.65\n"
          ]
        }
      ]
    },
    {
      "cell_type": "code",
      "source": [
        "#Punto 4 Mostrar los percentiles en 3 cuartiles del Food Index Price.\n",
        "qip1=food['Food Price Index'].quantile(0.25)\n",
        "qip2=food['Food Price Index'].quantile(0.50)\n",
        "qip3=food['Food Price Index'].quantile(0.75)\n",
        "print(qip1)\n",
        "print(qip2)\n",
        "print(qip3)"
      ],
      "metadata": {
        "colab": {
          "base_uri": "https://localhost:8080/"
        },
        "id": "H8sOctmvkHhz",
        "outputId": "3a2153ec-cf72-48f0-f9ea-1dc52f00ac17"
      },
      "execution_count": null,
      "outputs": [
        {
          "output_type": "stream",
          "name": "stdout",
          "text": [
            "63.8\n",
            "78.6\n",
            "99.4\n"
          ]
        }
      ]
    },
    {
      "cell_type": "code",
      "source": [
        "#Punto 5 Mostrar la media de los precios de Oils, solamente de los datos del mes de Febrero.\n",
        "febrero=food.loc[food['Mes']=='02']\n",
        "p4=febrero['Oils'].mean()\n",
        "print(p4)"
      ],
      "metadata": {
        "colab": {
          "base_uri": "https://localhost:8080/"
        },
        "id": "YfpxreX5jWgZ",
        "outputId": "61aa006b-801f-4590-8018-472db572016f"
      },
      "execution_count": null,
      "outputs": [
        {
          "output_type": "stream",
          "name": "stdout",
          "text": [
            "89.66212121212119\n"
          ]
        }
      ]
    },
    {
      "cell_type": "code",
      "source": [
        "#Punto 6 Mostrar el rango del precio de Sugar para el año 2012.\n",
        "año2012=food.loc[food['Año']=='2012']\n",
        "rango=año2012['Sugar'].max()-año2012['Sugar'].min()\n",
        "print(rango)"
      ],
      "metadata": {
        "colab": {
          "base_uri": "https://localhost:8080/"
        },
        "id": "r5ftTO5UkN_D",
        "outputId": "861b59ef-d36a-4046-a352-ee57c91cd42f"
      },
      "execution_count": null,
      "outputs": [
        {
          "output_type": "stream",
          "name": "stdout",
          "text": [
            "29.80000000000001\n"
          ]
        }
      ]
    },
    {
      "cell_type": "code",
      "source": [
        "#Punto 7 Mostar el precio máximo y mínimo de Meat y mostrar que fecha fue.\n",
        "  #Min\n",
        "meatmin=food['Meat'].min()\n",
        "meatmin=food.loc[food['Meat']==meatmin]\n",
        "print(meatmin)"
      ],
      "metadata": {
        "id": "hc4JrITOyArC",
        "colab": {
          "base_uri": "https://localhost:8080/"
        },
        "outputId": "a48027de-3597-4392-cd8b-9161cb0e5043"
      },
      "execution_count": null,
      "outputs": [
        {
          "output_type": "stream",
          "name": "stdout",
          "text": [
            "        Date  Food Price Index  Meat  Dairy   Oils  Sugar   Año Mes\n",
            "156  2002-12              55.6  51.1   49.3  65.51   49.2  2002  12\n"
          ]
        }
      ]
    },
    {
      "cell_type": "code",
      "source": [
        "  #Max\n",
        "meatmax=food['Meat'].max()\n",
        "meatmax=food.loc[food['Meat']==meatmax]\n",
        "print(meatmax)"
      ],
      "metadata": {
        "colab": {
          "base_uri": "https://localhost:8080/"
        },
        "id": "6cGHQX0GlQ52",
        "outputId": "857412f7-3af9-4c2b-fcd2-69ceb2ca4582"
      },
      "execution_count": null,
      "outputs": [
        {
          "output_type": "stream",
          "name": "stdout",
          "text": [
            "        Date  Food Price Index   Meat  Dairy   Oils  Sugar   Año Mes\n",
            "390  2022-06             154.7  125.9  150.2  211.8  117.3  2022  06\n"
          ]
        }
      ]
    },
    {
      "cell_type": "code",
      "source": [
        "#Punto 8 Mostrar la varianza y la desviación estandar del Food Price Index\n",
        "  #Varianza\n",
        "varfp=food['Food Price Index'].var(ddof=0)\n",
        "print(varfp)"
      ],
      "metadata": {
        "colab": {
          "base_uri": "https://localhost:8080/"
        },
        "id": "2PhIqthZlfWe",
        "outputId": "b51523ce-0fdd-4563-b867-19eb8e69a139"
      },
      "execution_count": null,
      "outputs": [
        {
          "output_type": "stream",
          "name": "stdout",
          "text": [
            "671.7672925043217\n"
          ]
        }
      ]
    },
    {
      "cell_type": "code",
      "source": [
        "  #Desviación Estandar\n",
        "dsfp=food['Food Price Index'].std(ddof=0)\n",
        "print(dsfp)"
      ],
      "metadata": {
        "colab": {
          "base_uri": "https://localhost:8080/"
        },
        "id": "UrgG-v4mltXF",
        "outputId": "74643656-9aba-402a-a093-6a1d46250ad5"
      },
      "execution_count": null,
      "outputs": [
        {
          "output_type": "stream",
          "name": "stdout",
          "text": [
            "25.918473961719307\n"
          ]
        }
      ]
    },
    {
      "cell_type": "code",
      "source": [
        "#Punto 9 Realizar una regresión lineal entre Meat(V. Independiente) y FPI(V. Dependiente).\n",
        "\n",
        "Mostrar la ecuación con la intersección y el coeficiente\n",
        "Mostrar la gráfica de la regresión\n",
        "Mostrar que tan confiable es el modelo\n",
        "\n"
      ],
      "metadata": {
        "colab": {
          "base_uri": "https://localhost:8080/"
        },
        "id": "BhfIj3e2l7D2",
        "outputId": "273a0b41-f02f-418e-c066-fb6ada74e54f"
      },
      "execution_count": null,
      "outputs": [
        {
          "output_type": "execute_result",
          "data": {
            "text/plain": [
              "{'fit_intercept': True,\n",
              " 'normalize': 'deprecated',\n",
              " 'copy_X': True,\n",
              " 'n_jobs': None,\n",
              " 'positive': False,\n",
              " 'feature_names_in_': array(['Meat'], dtype=object),\n",
              " 'n_features_in_': 1,\n",
              " 'coef_': array([[1.36139771]]),\n",
              " '_residues': array([54381.72162551]),\n",
              " 'rank_': 1,\n",
              " 'singular_': array([336.30573195]),\n",
              " 'intercept_': array([-29.00923267])}"
            ]
          },
          "metadata": {},
          "execution_count": 131
        }
      ]
    },
    {
      "cell_type": "code",
      "source": [
        "# Punto 9.1\n",
        "X=food['Meat']\n",
        "Y=food['Food Price Index']\n",
        "ln=LinearRegression().fit(X, Y)\n",
        "print(ln)"
      ],
      "metadata": {
        "colab": {
          "base_uri": "https://localhost:8080/"
        },
        "id": "5w6-V1oWmB4u",
        "outputId": "6fc6ae9e-d804-430d-eedd-bc948826ce5d"
      },
      "execution_count": null,
      "outputs": [
        {
          "output_type": "stream",
          "name": "stdout",
          "text": [
            "LinearRegression()\n"
          ]
        }
      ]
    },
    {
      "cell_type": "code",
      "source": [],
      "metadata": {
        "id": "SGkYc49wYxGl"
      },
      "execution_count": null,
      "outputs": []
    },
    {
      "cell_type": "code",
      "source": [
        "#Punto 9.2\n"
      ],
      "metadata": {
        "colab": {
          "base_uri": "https://localhost:8080/",
          "height": 296
        },
        "id": "EOS5YdHwZRx3",
        "outputId": "106af0f7-7929-47cc-db84-4df30482b908"
      },
      "execution_count": null,
      "outputs": [
        {
          "output_type": "execute_result",
          "data": {
            "text/plain": [
              "<matplotlib.axes._subplots.AxesSubplot at 0x7fdcdb24fc50>"
            ]
          },
          "metadata": {},
          "execution_count": 103
        },
        {
          "output_type": "display_data",
          "data": {
            "text/plain": [
              "<Figure size 432x288 with 1 Axes>"
            ],
            "image/png": "[encoded data removed]"
          },
          "metadata": {
            "needs_background": "light"
          }
        }
      ]
    },
    {
      "cell_type": "code",
      "source": [
        "\n",
        "#Punto 9.3\n"
      ],
      "metadata": {
        "colab": {
          "base_uri": "https://localhost:8080/"
        },
        "id": "XcwmjpcxSMG2",
        "outputId": "a1475f62-fdde-40b7-db89-16e0ecdf27bb"
      },
      "execution_count": null,
      "outputs": [
        {
          "output_type": "execute_result",
          "data": {
            "text/plain": [
              "0.7940121772185362"
            ]
          },
          "metadata": {},
          "execution_count": 104
        }
      ]
    },
    {
      "cell_type": "markdown",
      "source": [
        "\n"
      ],
      "metadata": {
        "id": "5PE6-KOFzoTt"
      }
    }
  ]
}